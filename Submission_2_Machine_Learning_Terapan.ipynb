{
  "nbformat": 4,
  "nbformat_minor": 0,
  "metadata": {
    "colab": {
      "provenance": [],
      "toc_visible": true
    },
    "kernelspec": {
      "name": "python3",
      "display_name": "Python 3"
    },
    "language_info": {
      "name": "python"
    }
  },
  "cells": [
    {
      "cell_type": "markdown",
      "source": [
        "# Laporan Proyek Machine Learning - Nama Anda\n",
        "\n",
        "## Project Overview\n",
        "\n",
        "Industri hiburan, khususnya perfilman, telah berkembang pesat dengan menjamurnya platform streaming digital. Pengguna seringkali dihadapkan pada pilihan film yang sangat banyak, yang dapat menyebabkan fenomena \"kelebihan pilihan\" atau information overload. Menemukan film yang relevan dan menarik bagi preferensi individu menjadi tantangan tersendiri. Di sinilah sistem rekomendasi berperan penting. Dengan menganalisis preferensi pengguna dan karakteristik film, sistem rekomendasi dapat membantu pengguna menemukan konten baru yang mungkin mereka sukai, meningkatkan pengalaman pengguna, dan mendorong interaksi lebih lanjut dengan platform.\n",
        "\n",
        "Proyek ini bertujuan untuk membangun sistem rekomendasi film menggunakan pendekatan Collaborative Filtering. Pendekatan ini dipilih karena fokusnya pada pola perilaku pengguna dan kesamaan selera, yang seringkali lebih efektif dalam menemukan item-item yang mungkin tidak secara langsung terkait dengan fitur deskriptif tetapi disukai oleh pengguna dengan profil yang mirip. Referensi lebih lanjut mengenai pentingnya sistem rekomendasi dalam mengatasi information overload dapat ditemukan pada [1].\n",
        "\n",
        "###Referensi\n",
        "[1] F. Ricci, L. Rokach, B. Shapira, and P. B. Kantor, Recommender Systems Handbook. Springer, 2011.\n"
      ],
      "metadata": {
        "id": "zC-oc4CWOpIb"
      }
    },
    {
      "cell_type": "markdown",
      "source": [
        "## Business Understanding\n",
        "\n",
        "Pada bagian ini, kita akan mengklarifikasi masalah bisnis yang ingin diselesaikan oleh proyek sistem rekomendasi ini.\n",
        "\n",
        "### Problem Statements\n",
        "\n",
        "1. Kelebihan Pilihan (Information Overload): Pengguna dihadapkan pada ribuan film di platform streaming, sehingga sulit bagi mereka untuk menemukan film yang menarik dan relevan secara efisien.\n",
        "\n",
        "2. Rendahnya Engagement Pengguna: Tanpa rekomendasi yang personal dan relevan, pengguna mungkin merasa frustrasi dan kurang termotivasi untuk menjelajahi katalog, yang dapat mengurangi engagement mereka dengan platform dan potensi untuk menemukan konten baru.\n",
        "\n",
        "3. Kesulitan dalam Penemuan Film Baru: Pengguna cenderung menonton film dari genre atau sutradara yang sudah mereka kenal, sehingga melewatkan banyak film potensial di luar lingkaran preferensi mereka.\n",
        "\n",
        "### Goals\n",
        "\n",
        "1. Menyediakan Rekomendasi Film Personal: Membangun sistem yang mampu merekomendasikan film yang sangat mungkin disukai oleh seorang pengguna berdasarkan data rating sebelumnya.\n",
        "\n",
        "2. Meningkatkan Penemuan Konten (Content Discovery): Membantu pengguna menemukan film-film baru yang relevan yang mungkin tidak akan mereka temukan sendiri, sehingga memperkaya pengalaman menonton mereka.\n",
        "\n",
        "3. Meningkatkan Pengalaman Pengguna: Menyajikan daftar film yang menarik dan personal untuk setiap pengguna, sehingga meningkatkan kepuasan dan loyalitas terhadap platform hiburan.\n",
        "\n",
        "### Solution Approach\n",
        "\n",
        "Kami akan mengimplementasikan sistem rekomendasi menggunakan pendekatan Collaborative Filtering. Secara spesifik, kami akan mencoba dua pendekatan dalam collaborative filtering:\n",
        "\n",
        "1. User-Based Collaborative Filtering: Rekomendasi dibuat dengan mencari pengguna lain yang memiliki selera rating serupa dengan pengguna target, kemudian merekomendasikan film yang disukai oleh pengguna serupa tersebut tetapi belum ditonton oleh pengguna target.\n",
        "\n",
        "2. Matrix Factorization (menggunakan Singular Value Decomposition - SVD): Pendekatan ini menguraikan matriks rating pengguna-item menjadi dua matriks laten yang lebih kecil. Ini memungkinkan kita untuk menemukan pola tersembunyi dalam data rating dan memprediksi rating untuk item yang belum di-rating. Pendekatan ini seringkali lebih efisien dan akurat dibandingkan user-based collaborative filtering tradisional, terutama pada dataset yang besar dan sparse."
      ],
      "metadata": {
        "id": "qvc3V9FHO1TZ"
      }
    },
    {
      "cell_type": "markdown",
      "source": [
        "## Data Understanding\n",
        "\n",
        "Dataset yang akan digunakan adalah MovieLens 100k Dataset. Dataset ini merupakan koleksi 100.000 rating film dari layanan rekomendasi film MovieLens, disediakan oleh GroupLens Research. Dataset ini mencakup rating (1-5) dari 943 pengguna pada 1.682 film, di mana setiap pengguna telah memberikan rating minimal 20 film.\n",
        "\n",
        "Sumber Data:\n",
        "Dataset ini diunduh langsung dari situs GroupLens Research:\n",
        "\n",
        "https://grouplens.org/datasets/movielens/100k/.\n",
        "\n",
        "Proses Pengambilan dan Pembebanan Data:"
      ],
      "metadata": {
        "id": "4Y28swi1Pbg3"
      }
    },
    {
      "cell_type": "code",
      "execution_count": 9,
      "metadata": {
        "colab": {
          "base_uri": "https://localhost:8080/"
        },
        "id": "yjRM7ngOUJDF",
        "outputId": "a90b8f29-fa81-4e9d-ef8b-9cbcd01b6d1b"
      },
      "outputs": [
        {
          "output_type": "stream",
          "name": "stdout",
          "text": [
            "Downloading MovieLens 100k dataset from: http://files.grouplens.org/datasets/movielens/ml-100k.zip\n",
            "Download complete. Extracting files...\n",
            "Files extracted to: ./movielens/ml-100k/\n",
            "\n",
            "Shape of ratings_df: (100000, 4)\n",
            "Shape of movies_df: (1682, 24)\n",
            "Shape of users_df: (943, 5)\n"
          ]
        }
      ],
      "source": [
        "import os\n",
        "import urllib.request\n",
        "import zipfile\n",
        "import pandas as pd\n",
        "import numpy as np\n",
        "import matplotlib.pyplot as plt\n",
        "import seaborn as sns\n",
        "from surprise import Dataset, Reader\n",
        "from surprise.model_selection import train_test_split, cross_validate\n",
        "from surprise import KNNBasic, SVD, accuracy\n",
        "\n",
        "# Direktori untuk menyimpan data\n",
        "data_dir = './movielens'\n",
        "if not os.path.exists(data_dir):\n",
        "    os.makedirs(data_dir)\n",
        "\n",
        "# URL dataset MovieLens 100k\n",
        "url = \"http://files.grouplens.org/datasets/movielens/ml-100k.zip\"\n",
        "zip_path = os.path.join(data_dir, \"ml-100k.zip\")\n",
        "extract_path = data_dir\n",
        "\n",
        "print(f\"Downloading MovieLens 100k dataset from: {url}\")\n",
        "# Mengunduh file zip\n",
        "urllib.request.urlretrieve(url, zip_path)\n",
        "print(\"Download complete. Extracting files...\")\n",
        "\n",
        "# Mengekstrak file zip\n",
        "with zipfile.ZipFile(zip_path, 'r') as zip_ref:\n",
        "    zip_ref.extractall(extract_path)\n",
        "print(f\"Files extracted to: {extract_path}/ml-100k/\")\n",
        "\n",
        "# Setelah ekstraksi, data akan berada di dalam sub-folder ml-100k\n",
        "base_data_path = os.path.join(extract_path, 'ml-100k')\n",
        "\n",
        "# Memuat dataset u.data (ratings)\n",
        "ratings_df = pd.read_csv(\n",
        "    os.path.join(base_data_path, 'u.data'),\n",
        "    sep='\\t',\n",
        "    names=['user_id', 'item_id', 'rating', 'timestamp']\n",
        ")\n",
        "\n",
        "# Memuat dataset u.item (informasi film)\n",
        "movies_df = pd.read_csv(\n",
        "    os.path.join(base_data_path, 'u.item'),\n",
        "    sep='|',\n",
        "    encoding='latin-1',\n",
        "    names=['movie_id', 'movie_title', 'release_date', 'video_release_date',\n",
        "           'imdb_url', 'unknown', 'Action', 'Adventure', 'Animation',\n",
        "           'Children\\'s', 'Comedy', 'Crime', 'Documentary', 'Drama', 'Fantasy',\n",
        "           'Film-Noir', 'Horror', 'Musical', 'Mystery', 'Romance', 'Sci-Fi',\n",
        "           'Thriller', 'War', 'Western']\n",
        ")\n",
        "\n",
        "# Memuat dataset u.user (informasi pengguna)\n",
        "users_df = pd.read_csv(\n",
        "    os.path.join(base_data_path, 'u.user'),\n",
        "    sep='|',\n",
        "    names=['user_id', 'age', 'gender', 'occupation', 'zip_code']\n",
        ")\n",
        "\n",
        "print(\"\\nShape of ratings_df:\", ratings_df.shape)\n",
        "print(\"Shape of movies_df:\", movies_df.shape)\n",
        "print(\"Shape of users_df:\", users_df.shape)"
      ]
    },
    {
      "cell_type": "markdown",
      "source": [
        "### Uraian Variabel dan Eksplorasi Data (EDA)\n",
        "\n",
        "### 1. Uraian Variabel (Fitur) pada Dataset\n",
        "\n",
        "#### a. ratings_df (Data Rating Pengguna)\n",
        "- **user_id**: ID unik yang mengidentifikasi setiap pengguna.\n",
        "- **item_id**: ID unik yang mengidentifikasi setiap film.\n",
        "- **rating**: Nilai numerik (1 hingga 5) yang diberikan pengguna untuk film tertentu.\n",
        "- **timestamp**: Waktu (dalam format Unix timestamp) ketika rating diberikan.\n",
        "\n",
        "#### b. movies_df (Informasi Film)\n",
        "- **movie_id**: ID unik film, cocok dengan item_id di `ratings_df`.\n",
        "- **movie_title**: Judul lengkap film.\n",
        "- **release_date**: Tanggal rilis film.\n",
        "- **video_release_date**: Tanggal rilis video (umumnya tidak relevan/kosong).\n",
        "- **imdb_url**: Tautan ke halaman IMDb film tersebut.\n",
        "- **Genre**:\n",
        "  - Kolom biner (0 atau 1) yang menunjukkan genre film.\n",
        "  - Nilai 1 berarti film termasuk dalam genre tersebut, 0 berarti tidak.\n",
        "  - Genre meliputi: `unknown`, `Action`, `Adventure`, `Animation`, `Children's`, `Comedy`, `Crime`, `Documentary`, `Drama`, `Fantasy`, `Film-Noir`, `Horror`, `Musical`, `Mystery`, `Romance`, `Sci-Fi`, `Thriller`, `War`, `Western`.\n",
        "\n",
        "#### c. users_df (Informasi Pengguna)\n",
        "- **user_id**: ID unik pengguna, cocok dengan `user_id` di `ratings_df`.\n",
        "- **age**: Usia pengguna.\n",
        "- **gender**: Jenis kelamin pengguna (`M` untuk Pria, `F` untuk Wanita).\n",
        "- **occupation**: Pekerjaan pengguna.\n",
        "- **zip_code**: Kode pos tempat tinggal pengguna.\n",
        "\n"
      ],
      "metadata": {
        "id": "W0np-nHFPvo1"
      }
    },
    {
      "cell_type": "markdown",
      "source": [
        "### 2. Eksplorasi Data (Exploratory Data Analysis - EDA)\n",
        "\n",
        "EDA dilakukan untuk mendapatkan pemahaman awal tentang struktur, distribusi, dan karakteristik data yang digunakan.\n",
        "\n",
        "#### a. Struktur dan Ukuran Dataset\n",
        "- Jumlah baris dan kolom pada masing-masing dataset (`ratings_df`, `movies_df`, `users_df`).\n",
        "- Tipe data dari masing-masing kolom.\n",
        "\n",
        "#### b. Statistik Deskriptif\n",
        "- Distribusi nilai `rating` (mean, median, modus, min, max).\n",
        "- Distribusi `age` pengguna.\n",
        "- Jumlah pengguna berdasarkan `gender` dan `occupation`.\n",
        "\n",
        "#### c. Analisis Genre Film\n",
        "- Jumlah film per genre.\n",
        "- Genre yang paling banyak muncul.\n",
        "\n",
        "#### d. Pola Pemberian Rating\n",
        "- Distribusi rating per film dan per pengguna.\n",
        "- Film dengan rata-rata rating tertinggi dan terendah (dengan batas minimal jumlah rating tertentu, misalnya ≥ 50).\n",
        "\n",
        "#### e. Waktu Rating\n",
        "- Konversi `timestamp` ke format waktu manusiawi (datetime).\n",
        "- Analisis tren pemberian rating berdasarkan waktu (misalnya per tahun/bulan).\n",
        "\n",
        "---\n",
        "\n",
        "> **Catatan**: Analisis lebih lanjut dapat dilakukan berdasarkan penggabungan (merge) ketiga dataset, seperti `ratings_df` digabung dengan `movies_df` dan `users_df` untuk melihat tren berdasarkan demografi dan genre film."
      ],
      "metadata": {
        "id": "faeLeRcnTsXL"
      }
    },
    {
      "cell_type": "code",
      "source": [
        "print(\"\\n--- Contoh 5 baris pertama data Ratings ---\")\n",
        "print(ratings_df.head())\n",
        "\n",
        "print(\"\\n--- Statistik Deskriptif untuk Rating ---\")\n",
        "print(ratings_df['rating'].describe())\n",
        "\n",
        "# Distribusi rating\n",
        "plt.figure(figsize=(8, 5))\n",
        "sns.countplot(x='rating', data=ratings_df, palette='viridis')\n",
        "plt.title('Distribusi Rating Film')\n",
        "plt.xlabel('Rating')\n",
        "plt.ylabel('Jumlah Rating')\n",
        "plt.show()\n",
        "\n",
        "# Jumlah unik pengguna dan film\n",
        "n_users = ratings_df['user_id'].nunique()\n",
        "n_items = ratings_df['item_id'].nunique()\n",
        "print(f\"\\nJumlah Pengguna Unik: {n_users}\")\n",
        "print(f\"Jumlah Film Unik: {n_items}\")\n",
        "\n",
        "# Menghitung sparsity matriks rating\n",
        "total_possible_ratings = n_users * n_items\n",
        "actual_ratings = len(ratings_df)\n",
        "sparsity = 1 - (actual_ratings / total_possible_ratings)\n",
        "print(f\"Sparsity (Kepadatan) Matriks Rating: {sparsity:.2%}\")\n",
        "\n",
        "# Gabungkan data rating dengan judul film untuk analisis lebih lanjut\n",
        "merged_df = pd.merge(ratings_df, movies_df[['movie_id', 'movie_title']], left_on='item_id', right_on='movie_id')\n",
        "print(\"\\n--- Contoh 5 baris pertama data Rating dan Judul Film ---\")\n",
        "print(merged_df.head())\n",
        "\n",
        "# 10 Film dengan Rating Terbanyak (berdasarkan jumlah rating)\n",
        "top_rated_movies = merged_df['movie_title'].value_counts().head(10)\n",
        "print(\"\\n--- 10 Film dengan Jumlah Rating Terbanyak ---\")\n",
        "print(top_rated_movies)\n",
        "\n",
        "# Visualisasi 10 film dengan rating terbanyak\n",
        "plt.figure(figsize=(10, 6))\n",
        "sns.barplot(x=top_rated_movies.values, y=top_rated_movies.index, palette='magma')\n",
        "plt.title('Top 10 Film dengan Jumlah Rating Terbanyak')\n",
        "plt.xlabel('Jumlah Rating')\n",
        "plt.ylabel('Judul Film')\n",
        "plt.show()"
      ],
      "metadata": {
        "colab": {
          "base_uri": "https://localhost:8080/",
          "height": 1000
        },
        "id": "Kshq6cBxN0NM",
        "outputId": "2d22820f-2c7b-41db-d9db-def16acd7771"
      },
      "execution_count": 10,
      "outputs": [
        {
          "output_type": "stream",
          "name": "stdout",
          "text": [
            "\n",
            "--- Contoh 5 baris pertama data Ratings ---\n",
            "   user_id  item_id  rating  timestamp\n",
            "0      196      242       3  881250949\n",
            "1      186      302       3  891717742\n",
            "2       22      377       1  878887116\n",
            "3      244       51       2  880606923\n",
            "4      166      346       1  886397596\n",
            "\n",
            "--- Statistik Deskriptif untuk Rating ---\n",
            "count    100000.000000\n",
            "mean          3.529860\n",
            "std           1.125674\n",
            "min           1.000000\n",
            "25%           3.000000\n",
            "50%           4.000000\n",
            "75%           4.000000\n",
            "max           5.000000\n",
            "Name: rating, dtype: float64\n"
          ]
        },
        {
          "output_type": "stream",
          "name": "stderr",
          "text": [
            "<ipython-input-10-8d6c9a481557>:9: FutureWarning: \n",
            "\n",
            "Passing `palette` without assigning `hue` is deprecated and will be removed in v0.14.0. Assign the `x` variable to `hue` and set `legend=False` for the same effect.\n",
            "\n",
            "  sns.countplot(x='rating', data=ratings_df, palette='viridis')\n"
          ]
        },
        {
          "output_type": "display_data",
          "data": {
            "text/plain": [
              "<Figure size 800x500 with 1 Axes>"
            ],
            "image/png": "[encoded data removed]"
          },
          "metadata": {}
        },
        {
          "output_type": "stream",
          "name": "stdout",
          "text": [
            "\n",
            "Jumlah Pengguna Unik: 943\n",
            "Jumlah Film Unik: 1682\n",
            "Sparsity (Kepadatan) Matriks Rating: 93.70%\n",
            "\n",
            "--- Contoh 5 baris pertama data Rating dan Judul Film ---\n",
            "   user_id  item_id  rating  timestamp  movie_id                 movie_title\n",
            "0      196      242       3  881250949       242                Kolya (1996)\n",
            "1      186      302       3  891717742       302    L.A. Confidential (1997)\n",
            "2       22      377       1  878887116       377         Heavyweights (1994)\n",
            "3      244       51       2  880606923        51  Legends of the Fall (1994)\n",
            "4      166      346       1  886397596       346         Jackie Brown (1997)\n",
            "\n",
            "--- 10 Film dengan Jumlah Rating Terbanyak ---\n",
            "movie_title\n",
            "Star Wars (1977)                 583\n",
            "Contact (1997)                   509\n",
            "Fargo (1996)                     508\n",
            "Return of the Jedi (1983)        507\n",
            "Liar Liar (1997)                 485\n",
            "English Patient, The (1996)      481\n",
            "Scream (1996)                    478\n",
            "Toy Story (1995)                 452\n",
            "Air Force One (1997)             431\n",
            "Independence Day (ID4) (1996)    429\n",
            "Name: count, dtype: int64\n"
          ]
        },
        {
          "output_type": "stream",
          "name": "stderr",
          "text": [
            "<ipython-input-10-8d6c9a481557>:39: FutureWarning: \n",
            "\n",
            "Passing `palette` without assigning `hue` is deprecated and will be removed in v0.14.0. Assign the `y` variable to `hue` and set `legend=False` for the same effect.\n",
            "\n",
            "  sns.barplot(x=top_rated_movies.values, y=top_rated_movies.index, palette='magma')\n"
          ]
        },
        {
          "output_type": "display_data",
          "data": {
            "text/plain": [
              "<Figure size 1000x600 with 1 Axes>"
            ],
            "image/png": "[encoded data removed]"
          },
          "metadata": {}
        }
      ]
    },
    {
      "cell_type": "markdown",
      "source": [
        "Insight dari EDA:\n",
        "\n",
        "- Dataset ini berisi 100.000 rating yang diberikan oleh 943 pengguna unik untuk 1.682 film unik.\n",
        "- Distribusi rating menunjukkan bahwa rating 3 dan 4 adalah yang paling sering diberikan, mengindikasikan bahwa sebagian besar pengguna memberikan rating yang cukup positif.\n",
        "- Sparsity matriks rating mencapai sekitar 93.68%. Angka ini sangat tinggi, yang berarti sebagian besar kombinasi pengguna-film belum memiliki rating. Hal ini umum dalam dataset rekomendasi dan menegaskan perlunya algoritma yang efektif dalam menangani data sparse.\n",
        "- Film seperti 'Star Wars (1977)', 'Contact (1997)', dan 'Fargo (1996)' adalah yang paling banyak di-rating, menunjukkan popularitasnya di kalangan pengguna dataset ini."
      ],
      "metadata": {
        "id": "0OLPdVcOQ8MZ"
      }
    },
    {
      "cell_type": "markdown",
      "source": [
        "## Data Preparation\n",
        "\n",
        "Tahap persiapan data berfokus pada pembentukan data ke format yang sesuai untuk model collaborative filtering.\n",
        "\n",
        "###Proses Data Preparation:\n",
        "\n",
        "1. Pemilihan Kolom Relevan: Untuk model sistem rekomendasi berbasis rating, kita hanya memerlukan kolom user_id, item_id, dan rating dari ratings_df. Kolom lain seperti timestamp tidak relevan untuk algoritma collaborative filtering yang akan kita gunakan.\n",
        "\n",
        "2. Pembuatan Objek Dataset untuk Surprise: Library surprise (yang akan kita gunakan untuk modeling) membutuhkan data dalam format spesifik. Kita menggunakan kelas Reader untuk menentukan skala rating (1-5) dan kemudian Dataset.load_from_df() untuk memuat DataFrame ke dalam objek Dataset.\n",
        "\n",
        "3. Pembagian Data Latih dan Uji: Data dibagi menjadi set pelatihan (trainset) dan set pengujian (testset). Set pelatihan digunakan untuk melatih model, sementara set pengujian digunakan untuk mengevaluasi kinerja model pada data yang belum pernah dilihat sebelumnya. Pembagian ini dilakukan dengan rasio 80% untuk pelatihan dan 20% untuk pengujian (test_size=0.2)."
      ],
      "metadata": {
        "id": "VLLO22_zRcb3"
      }
    },
    {
      "cell_type": "code",
      "source": [
        "# 1. Pemilihan Kolom Relevan (ratings_df sudah hanya berisi ini)\n",
        "# Ini adalah langkah konseptual; DataFrame ratings_df sudah dalam format yang tepat.\n",
        "\n",
        "# 2. Pembuatan Objek Dataset untuk Surprise\n",
        "# Mendefinisikan skala rating\n",
        "reader = Reader(rating_scale=(1, 5))\n",
        "\n",
        "# Memuat data dari DataFrame ke objek Dataset yang dapat digunakan oleh Surprise\n",
        "data = Dataset.load_from_df(ratings_df[['user_id', 'item_id', 'rating']], reader)\n",
        "\n",
        "print(\"\\nDataset berhasil dimuat ke objek Surprise.\")\n",
        "\n",
        "# 3. Pembagian Data Latih dan Uji\n",
        "trainset, testset = train_test_split(data, test_size=0.2, random_state=42)\n",
        "\n",
        "# Perbaikan: Konversi generator ke list sebelum menghitung panjangnya\n",
        "print(f\"\\nJumlah rating dalam Training Set: {len(list(trainset.all_ratings()))}\")\n",
        "print(f\"Jumlah rating dalam Testing Set: {len(testset)}\")"
      ],
      "metadata": {
        "colab": {
          "base_uri": "https://localhost:8080/"
        },
        "id": "43GKfN5xN-u1",
        "outputId": "325c440a-5e93-4cb7-b376-c15ebc853f83"
      },
      "execution_count": 12,
      "outputs": [
        {
          "output_type": "stream",
          "name": "stdout",
          "text": [
            "\n",
            "Dataset berhasil dimuat ke objek Surprise.\n",
            "\n",
            "Jumlah rating dalam Training Set: 80000\n",
            "Jumlah rating dalam Testing Set: 20000\n"
          ]
        }
      ]
    },
    {
      "cell_type": "markdown",
      "source": [
        "Alasan Diperlukannya Tahapan Data Preparation:\n",
        "\n",
        "Kompatibilitas Model: surprise library memiliki struktur data sendiri yang dioptimalkan untuk algoritma sistem rekomendasi. Mengubah DataFrame ke objek Dataset ini memastikan data dapat diproses dengan benar oleh model.\n",
        "Evaluasi yang Objektif: Pembagian data menjadi set pelatihan dan pengujian sangat krusial. Ini mencegah overfitting (di mana model terlalu cocok dengan data pelatihan dan tidak dapat digeneralisasi dengan baik ke data baru) dan memungkinkan kita untuk mendapatkan estimasi kinerja model yang tidak bias."
      ],
      "metadata": {
        "id": "HvXhLlrBRyTX"
      }
    },
    {
      "cell_type": "markdown",
      "source": [
        "## Modeling\n",
        "Tahapan ini membahas mengenai model sistem rekomendasi yang Anda buat untuk menyelesaikan permasalahan. Kami akan menyajikan dua solusi rekomendasi dengan algoritma collaborative filtering yang berbeda.\n",
        "\n"
      ],
      "metadata": {
        "id": "L1X9AvsSR38I"
      }
    },
    {
      "cell_type": "markdown",
      "source": [
        "### Solusi Rekomendasi 1: User-Based Collaborative Filtering (k-NN)\n",
        "Pendekatan ini bekerja dengan mencari pengguna lain yang memiliki pola rating serupa dengan pengguna target. Kemudian, film-film yang disukai oleh pengguna serupa tersebut, dan belum ditonton oleh pengguna target, akan direkomendasikan. Kami akan menggunakan algoritma k-Nearest Neighbors (k-NN) dengan ukuran kesamaan Cosine."
      ],
      "metadata": {
        "id": "AzBIpCc5SoW_"
      }
    },
    {
      "cell_type": "code",
      "source": [
        "# Konfigurasi kesamaan untuk KNNBasic: user-based dengan cosine similarity\n",
        "sim_options_knn = {\n",
        "    'name': 'cosine',\n",
        "    'user_based': True  # user_based=True untuk User-Based Collaborative Filtering\n",
        "}\n",
        "algo_knn_user = KNNBasic(sim_options=sim_options_knn)\n",
        "\n",
        "print(\"\\nMemulai pelatihan model User-Based Collaborative Filtering (KNN)...\")\n",
        "algo_knn_user.fit(trainset)\n",
        "print(\"Model User-Based KNN selesai dilatih.\")\n",
        "\n",
        "# Melakukan prediksi pada testset\n",
        "predictions_knn_user = algo_knn_user.test(testset)\n",
        "\n",
        "# Menampilkan metrik evaluasi awal\n",
        "print(\"\\n--- Evaluasi Awal untuk User-Based KNN ---\")\n",
        "accuracy.rmse(predictions_knn_user, verbose=True)\n",
        "accuracy.mae(predictions_knn_user, verbose=True)\n",
        "\n",
        "# Contoh rekomendasi untuk pengguna tertentu (misal: user_id 100)\n",
        "user_id_to_recommend = 100\n",
        "\n",
        "# Dapatkan film yang sudah di-rate oleh pengguna ini\n",
        "user_rated_movies = set(ratings_df[ratings_df['user_id'] == user_id_to_recommend]['item_id'])\n",
        "\n",
        "# Dapatkan semua film unik\n",
        "all_movie_ids = movies_df['movie_id'].unique()\n",
        "\n",
        "# Filter film yang belum di-rate oleh pengguna target\n",
        "movies_not_rated_by_user = [movie_id for movie_id in all_movie_ids if movie_id not in user_rated_movies]\n",
        "\n",
        "# Prediksi rating untuk film yang belum di-rate oleh pengguna target\n",
        "predicted_ratings_knn_user = []\n",
        "for movie_id in movies_not_rated_by_user:\n",
        "    # predict() mengambil uid, iid, dan r_ui_true (nilai sebenarnya, jika diketahui, untuk perhitungan error)\n",
        "    # Kita hanya perlu uid dan iid untuk prediksi\n",
        "    pred = algo_knn_user.predict(user_id_to_recommend, movie_id)\n",
        "    predicted_ratings_knn_user.append((pred.iid, pred.est)) # iid: item ID, est: estimated rating\n",
        "\n",
        "# Urutkan film berdasarkan prediksi rating tertinggi\n",
        "predicted_ratings_knn_user.sort(key=lambda x: x[1], reverse=True)\n",
        "\n",
        "# Ambil 10 rekomendasi teratas (Top-N recommendation)\n",
        "top_n_recommendations_knn_user = predicted_ratings_knn_user[:10]\n",
        "\n",
        "print(f\"\\n--- Top 10 Rekomendasi untuk Pengguna {user_id_to_recommend} (User-Based KNN) ---\")\n",
        "for movie_id, estimated_rating in top_n_recommendations_knn_user:\n",
        "    # Ambil judul film dari movies_df\n",
        "    movie_title = movies_df[movies_df['movie_id'] == movie_id]['movie_title'].iloc[0]\n",
        "    print(f\"Film: {movie_title} (Estimasi Rating: {estimated_rating:.2f})\")"
      ],
      "metadata": {
        "colab": {
          "base_uri": "https://localhost:8080/"
        },
        "id": "h2XW2uI2OKKW",
        "outputId": "fbf8f686-2d8c-4cb5-d76d-056a88c12327"
      },
      "execution_count": 13,
      "outputs": [
        {
          "output_type": "stream",
          "name": "stdout",
          "text": [
            "\n",
            "Memulai pelatihan model User-Based Collaborative Filtering (KNN)...\n",
            "Computing the cosine similarity matrix...\n",
            "Done computing similarity matrix.\n",
            "Model User-Based KNN selesai dilatih.\n",
            "\n",
            "--- Evaluasi Awal untuk User-Based KNN ---\n",
            "RMSE: 1.0194\n",
            "MAE:  0.8038\n",
            "\n",
            "--- Top 10 Rekomendasi untuk Pengguna 100 (User-Based KNN) ---\n",
            "Film: Great Day in Harlem, A (1994) (Estimasi Rating: 5.00)\n",
            "Film: They Made Me a Criminal (1939) (Estimasi Rating: 5.00)\n",
            "Film: Marlene Dietrich: Shadow and Light (1996)  (Estimasi Rating: 5.00)\n",
            "Film: Saint of Fort Washington, The (1993) (Estimasi Rating: 5.00)\n",
            "Film: Santa with Muscles (1996) (Estimasi Rating: 5.00)\n",
            "Film: Aiqing wansui (1994) (Estimasi Rating: 5.00)\n",
            "Film: Someone Else's America (1995) (Estimasi Rating: 5.00)\n",
            "Film: Entertaining Angels: The Dorothy Day Story (1996) (Estimasi Rating: 5.00)\n",
            "Film: Prefontaine (1997) (Estimasi Rating: 5.00)\n",
            "Film: Star Kid (1997) (Estimasi Rating: 5.00)\n"
          ]
        }
      ]
    },
    {
      "cell_type": "markdown",
      "source": [
        "Kelebihan User-Based Collaborative Filtering (KNN):\n",
        "\n",
        "- Intuitif: Konsepnya mudah dipahami; merekomendasikan apa yang disukai oleh orang-orang dengan selera serupa.\n",
        "- Tidak Memerlukan Informasi Fitur Item: Hanya membutuhkan data rating pengguna-item, membuatnya fleksibel untuk berbagai jenis item.\n",
        "- Menemukan Item Tidak Terduga: Mampu merekomendasikan item yang berbeda dari preferensi langsung pengguna tetapi disukai oleh komunitas serupa.\n",
        "\n",
        "Kekurangan User-Based Collaborative Filtering (KNN):\n",
        "\n",
        "- Masalah Skalabilitas: Perhitungan kesamaan antar pengguna bisa sangat mahal pada dataset besar.\n",
        "- Masalah Sparsity: Sulit menemukan pengguna yang benar-benar mirip jika data rating sangat jarang.\n",
        "- Cold Start Problem (Pengguna Baru): Sulit merekomendasikan untuk pengguna baru karena tidak ada cukup rating untuk menemukan pengguna serupa."
      ],
      "metadata": {
        "id": "HD8K2-QLSVgb"
      }
    },
    {
      "cell_type": "markdown",
      "source": [
        "### Solusi Rekomendasi 2: Matrix Factorization (SVD)\n",
        "Matrix Factorization adalah teknik yang memecah matriks rating menjadi dua matriks laten (pengguna dan item) yang lebih kecil. Matriks laten ini menangkap karakteristik tersembunyi dari pengguna dan item yang menjelaskan rating yang diamati. Singular Value Decomposition (SVD) adalah salah satu metode Matrix Factorization yang paling populer dan efektif."
      ],
      "metadata": {
        "id": "XWco0TPbShsv"
      }
    },
    {
      "cell_type": "code",
      "source": [
        "# Model Matrix Factorization (SVD)\n",
        "algo_svd = SVD(random_state=42) # random_state untuk reproduktifitas\n",
        "\n",
        "print(\"\\nMemulai pelatihan model Matrix Factorization (SVD)...\")\n",
        "algo_svd.fit(trainset)\n",
        "print(\"Model SVD selesai dilatih.\")\n",
        "\n",
        "# Melakukan prediksi pada testset\n",
        "predictions_svd = algo_svd.test(testset)\n",
        "\n",
        "# Menampilkan metrik evaluasi awal\n",
        "print(\"\\n--- Evaluasi Awal untuk Matrix Factorization (SVD) ---\")\n",
        "accuracy.rmse(predictions_svd, verbose=True)\n",
        "accuracy.mae(predictions_svd, verbose=True)\n",
        "\n",
        "# Contoh rekomendasi untuk pengguna yang sama (user_id 100)\n",
        "# Kita menggunakan list movies_not_rated_by_user yang sama\n",
        "predicted_ratings_svd = []\n",
        "for movie_id in movies_not_rated_by_user:\n",
        "    pred = algo_svd.predict(user_id_to_recommend, movie_id)\n",
        "    predicted_ratings_svd.append((pred.iid, pred.est))\n",
        "\n",
        "# Urutkan film berdasarkan prediksi rating tertinggi\n",
        "predicted_ratings_svd.sort(key=lambda x: x[1], reverse=True)\n",
        "\n",
        "# Ambil 10 rekomendasi teratas (Top-N recommendation)\n",
        "top_n_recommendations_svd = predicted_ratings_svd[:10]\n",
        "\n",
        "print(f\"\\n--- Top 10 Rekomendasi untuk Pengguna {user_id_to_recommend} (SVD) ---\")\n",
        "for movie_id, estimated_rating in top_n_recommendations_svd:\n",
        "    # Ambil judul film dari movies_df\n",
        "    movie_title = movies_df[movies_df['movie_id'] == movie_id]['movie_title'].iloc[0]\n",
        "    print(f\"Film: {movie_title} (Estimasi Rating: {estimated_rating:.2f})\")"
      ],
      "metadata": {
        "colab": {
          "base_uri": "https://localhost:8080/"
        },
        "id": "iS4Z4rhxOQT4",
        "outputId": "0d3f2e8f-c984-49f2-f2bc-55e44f2df3f6"
      },
      "execution_count": 14,
      "outputs": [
        {
          "output_type": "stream",
          "name": "stdout",
          "text": [
            "\n",
            "Memulai pelatihan model Matrix Factorization (SVD)...\n",
            "Model SVD selesai dilatih.\n",
            "\n",
            "--- Evaluasi Awal untuk Matrix Factorization (SVD) ---\n",
            "RMSE: 0.9352\n",
            "MAE:  0.7375\n",
            "\n",
            "--- Top 10 Rekomendasi untuk Pengguna 100 (SVD) ---\n",
            "Film: Third Man, The (1949) (Estimasi Rating: 4.22)\n",
            "Film: Schindler's List (1993) (Estimasi Rating: 4.20)\n",
            "Film: Fargo (1996) (Estimasi Rating: 4.19)\n",
            "Film: Shawshank Redemption, The (1994) (Estimasi Rating: 4.10)\n",
            "Film: Raiders of the Lost Ark (1981) (Estimasi Rating: 4.08)\n",
            "Film: Braveheart (1995) (Estimasi Rating: 4.06)\n",
            "Film: Close Shave, A (1995) (Estimasi Rating: 4.03)\n",
            "Film: Arsenic and Old Lace (1944) (Estimasi Rating: 4.01)\n",
            "Film: Usual Suspects, The (1995) (Estimasi Rating: 4.00)\n",
            "Film: Wallace & Gromit: The Best of Aardman Animation (1996) (Estimasi Rating: 3.99)\n"
          ]
        }
      ]
    },
    {
      "cell_type": "markdown",
      "source": [
        "Kelebihan Matrix Factorization (SVD):\n",
        "\n",
        "- Akurasi Tinggi: Seringkali memberikan akurasi prediksi yang lebih baik dibandingkan metode berbasis kesamaan tradisional, terutama pada data sparse.\n",
        "- Skalabilitas: Lebih skalabel untuk dataset besar karena kompleksitasnya tidak terlalu bergantung pada jumlah pengguna atau item secara langsung, melainkan pada dimensi faktor laten.\n",
        "- Menangani Sparsity: Efektif dalam menangani data yang sparse karena mampu mengestimasi nilai-nilai yang hilang.\n",
        "\n",
        "Kekurangan Matrix Factorization (SVD):\n",
        "\n",
        "- Kurang Intuitif: Faktor laten yang dihasilkan sulit diinterpretasikan secara langsung.\n",
        "- Cold Start Problem (Pengguna/Item Baru): Masih memiliki masalah cold start untuk pengguna atau item baru karena tidak ada rating untuk mengestimasi faktor laten mereka.\n",
        "- Komputasi: Meskipun lebih skalabel dari KNN, untuk dataset yang sangat besar, SVD bisa memerlukan sumber daya komputasi yang signifikan."
      ],
      "metadata": {
        "id": "J9gBvg-aSvuD"
      }
    },
    {
      "cell_type": "markdown",
      "source": [
        "## Evaluation\n",
        "\n",
        "Pada bagian ini, kita akan mengevaluasi kinerja kedua model yang telah dibangun menggunakan metrik yang relevan untuk masalah prediksi *rating*.\n",
        "\n",
        "### Metrik Evaluasi\n",
        "\n",
        "#### 1. Root Mean Squared Error (RMSE)\n",
        "-   **Deskripsi**: RMSE mengukur akar kuadrat dari rata-rata kuadrat perbedaan antara *rating* yang diprediksi dan *rating* aktual.\n",
        "-   **Karakteristik**: Metrik ini memberikan bobot lebih pada kesalahan prediksi yang besar (karena dikuadratkan), sehingga sensitif terhadap *outlier*.\n",
        "-   **Interpretasi**: Nilai **RMSE yang lebih rendah** menunjukkan kinerja model yang lebih baik.\n",
        "\n",
        "**Rumus:**\n",
        "\n",
        "$$RMSE = \\sqrt{\\frac{1}{N} \\sum_{i=1}^{N} (y_i - \\hat{y}_i)^2}$$\n",
        "\n",
        "Di mana:\n",
        "-   $N$ adalah jumlah *rating* dalam set pengujian.\n",
        "-   $y_i$ adalah *rating* aktual.\n",
        "-   $\\hat{y}_i$ adalah *rating* yang diprediksi oleh model.\n",
        "\n",
        "#### 2. Mean Absolute Error (MAE)\n",
        "-   **Deskripsi**: MAE mengukur rata-rata dari nilai absolut perbedaan antara *rating* yang diprediksi dan *rating* aktual.\n",
        "-   **Karakteristik**: Metrik ini memberikan bobot yang sama untuk semua kesalahan dan kurang sensitif terhadap *outlier* dibandingkan RMSE.\n",
        "-   **Interpretasi**: Nilai **MAE yang lebih rendah** juga menunjukkan kinerja model yang lebih baik.\n",
        "\n",
        "**Rumus:**\n",
        "\n",
        "$$MAE = \\frac{1}{N} \\sum_{i=1}^{N} |y_i - \\hat{y}_i|$$\n",
        "\n",
        "Di mana:\n",
        "-   $N$ adalah jumlah *rating* dalam set pengujian.\n",
        "-   $y_i$ adalah *rating* aktual.\n",
        "-   $\\hat{y}_i$ adalah *rating* yang diprediksi oleh model.\n",
        "\n",
        "---\n",
        "\n",
        "### Hasil Evaluasi\n",
        "\n",
        "Berdasarkan *output* dari proses *modeling*, metrik evaluasi untuk kedua model adalah sebagai berikut:\n",
        "\n",
        "#### Untuk User-Based Collaborative Filtering (KNN):\n",
        "-   **RMSE**: `1.0194`\n",
        "-   **MAE**: `0.8038`\n",
        "\n",
        "#### Untuk Matrix Factorization (SVD):\n",
        "-   **RMSE**: `0.9352`\n",
        "-   **MAE**: `0.7375`\n",
        "\n",
        "---\n",
        "\n",
        "### Analisis Hasil\n",
        "\n",
        "Dari hasil di atas, model **Matrix Factorization (SVD)** menunjukkan kinerja yang **lebih unggul** dibandingkan dengan **User-Based Collaborative Filtering (KNN)**.\n",
        "\n",
        "* Nilai **RMSE SVD yang lebih rendah** (`0.9352` berbanding `1.0194`) mengindikasikan bahwa prediksi SVD memiliki deviasi kuadrat rata-rata yang lebih kecil dari *rating* aktual. Artinya, model SVD lebih akurat dalam memprediksi *rating*, terutama untuk kesalahan prediksi yang signifikan.\n",
        "* Nilai **MAE SVD yang lebih rendah** (`0.7375` berbanding `0.8038`) juga menunjukkan bahwa SVD memiliki rata-rata kesalahan absolut yang lebih kecil. Ini berarti, secara umum, perbedaan antara *rating* prediksi dan *rating* aktual pada SVD lebih kecil.\n",
        "\n",
        "Perbedaan kinerja ini konsisten dengan literatur dan praktik di mana **Matrix Factorization** seringkali unggul dalam akurasi pada dataset **sparse** dibandingkan pendekatan berbasis kesamaan tradisional. Model SVD mampu menangkap **pola tersembunyi (latent factors)** dalam data *rating* yang lebih efektif dalam memprediksi *rating* yang belum diketahui. Selain itu, seperti yang terlihat dari contoh rekomendasi, SVD cenderung memberikan rekomendasi film-film yang lebih populer dan realistis, berbeda dengan KNN yang dalam kasus ini merekomendasikan film-film dengan *rating* estimasi sempurna namun kurang dikenal.\n",
        "\n",
        "---\n",
        "\n",
        "### Kesimpulan\n",
        "\n",
        "Secara keseluruhan, proyek ini berhasil membangun dan membandingkan dua model sistem rekomendasi **collaborative filtering**. Model **SVD** terbukti lebih unggul dalam hal **akurasi prediksi *rating***, menjadikannya pilihan yang lebih baik untuk sistem rekomendasi film ini."
      ],
      "metadata": {
        "id": "RNo5IDWz0HoF"
      }
    }
  ]
}